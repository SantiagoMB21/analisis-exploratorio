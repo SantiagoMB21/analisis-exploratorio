{
 "cells": [
  {
   "cell_type": "markdown",
   "metadata": {},
   "source": [
    "*Problema Identificado:*\n",
    "En el Valle Geográfico del Río Cauca, la conservación de una de las especies de aves migratorias mas amenazadas *Tringa flavipes* (Lesser Yellowlegs) se ha visto afectada por la falta de conocimiento sobre cómo las condiciones ambientales influyen en la migración y avistamientos de la especie. Las organizaciones ambientales locales no han podido establecer una relación clara entre las variaciones en temperatura y precipitación y los patrones de avistamientos de esta ave, lo que limita la toma de decisiones informadas para su conservación durante el periodo de migración.\n",
    "\n",
    "*Solución:*\n",
    "Utilizar ciencia de datos para analizar los datos de avistamientos de *Tringa flavipes* proporcionados por eBird (Herramienta de ciencia ciudadana), junto con datos meteorológicos históricos. Mediante la aplicación de técnicas de correlación y análisis predictivo, se puede identificar si existe una relación fuerte entre las condiciones ambientales y la frecuencia de avistamientos, permitiendo así diseñar estrategias de conservación más efectivas.\n",
    "\n",
    "*SMART:*\n",
    "¿Existe una correlación fuerte (>0.5) entre la frecuencia de avistamientos de *Tringa flavipes* en el Valle Geográfico del Río Cauca y las condiciones ambientales (temperatura y precipitación promedio) registradas durante el período de migración en los últimos 15 años según los datos de eBird?"
   ]
  }
 ],
 "metadata": {
  "language_info": {
   "name": "python"
  }
 },
 "nbformat": 4,
 "nbformat_minor": 2
}
