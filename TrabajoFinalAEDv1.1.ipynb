{
  "nbformat": 4,
  "nbformat_minor": 0,
  "metadata": {
    "colab": {
      "provenance": [],
      "collapsed_sections": [
        "w6ND0ZTlTqK9",
        "rRH808A7UIi9"
      ],
      "mount_file_id": "1ZK2niO_4fCAxK-r60Kz_LtkMy7DvVBuE",
      "authorship_tag": "ABX9TyOh3dtK9UzKDQgueCZNksMB",
      "include_colab_link": true
    },
    "kernelspec": {
      "name": "python3",
      "display_name": "Python 3"
    },
    "language_info": {
      "name": "python"
    }
  },
  "cells": [
    {
      "cell_type": "markdown",
      "metadata": {
        "id": "view-in-github",
        "colab_type": "text"
      },
      "source": [
        "<a href=\"https://colab.research.google.com/github/SantiagoMB21/analisis-exploratorio/blob/main/TrabajoFinalAEDv1.1.ipynb\" target=\"_parent\"><img src=\"https://colab.research.google.com/assets/colab-badge.svg\" alt=\"Open In Colab\"/></a>"
      ]
    },
    {
      "cell_type": "markdown",
      "source": [
        "# **Trabajo Final AED**\n",
        "Santiago Muñoz Bolaños y\n",
        "Juan David García"
      ],
      "metadata": {
        "id": "jlRJZSrzCuvF"
      }
    },
    {
      "cell_type": "markdown",
      "source": [
        "# **Librerías a utilizar**"
      ],
      "metadata": {
        "id": "G3mvL5eSNbW5"
      }
    },
    {
      "cell_type": "code",
      "execution_count": 90,
      "metadata": {
        "id": "34bI6LOGNUEZ"
      },
      "outputs": [],
      "source": [
        "import pandas as pd\n",
        "from sklearn.preprocessing import StandardScaler, LabelEncoder\n",
        "from sklearn.model_selection import train_test_split\n",
        "from sklearn.pipeline import Pipeline\n",
        "from sklearn.impute import SimpleImputer\n",
        "from sklearn.linear_model import LinearRegression\n",
        "from sklearn.metrics import mean_squared_error, r2_score\n",
        "import numpy as np\n",
        "import matplotlib.pyplot as plt\n",
        "import seaborn as sns\n",
        "from sklearn.base import BaseEstimator, TransformerMixin\n",
        "from sklearn.linear_model import LogisticRegression\n",
        "from sklearn.ensemble import RandomForestClassifier\n",
        "from sklearn.metrics import classification_report, confusion_matrix\n",
        "from sklearn.metrics import accuracy_score"
      ]
    },
    {
      "cell_type": "code",
      "source": [
        "# Cargar el archivo CSV\n",
        "file_path = '/content/drive/MyDrive/Análisis exploratorio de datos/DatosLEYE-finales.csv'\n",
        "data = pd.read_csv(file_path)"
      ],
      "metadata": {
        "id": "X411hA9lNfBv"
      },
      "execution_count": 52,
      "outputs": []
    },
    {
      "cell_type": "markdown",
      "source": [
        "# **Pregunta SMART**\n",
        "¿Existe una correlación fuerte (>0.5) entre el número de individuos detectados de el Patiamarillo chico (Tringa flavipes) en el Valle Geográfico del Río Cauca y las condiciones ambientales (precipiación diaria y mensual, temperatura promedio y cobertura de agua) registradas durante el período de migración en los últimos 25 años según los datos de eBird?"
      ],
      "metadata": {
        "id": "-V-UAMcECPbM"
      }
    },
    {
      "cell_type": "markdown",
      "source": [
        "# **Contexto**\n",
        "En el Valle Geográfico del Río Cauca, la conservación de una de las especies de aves migratorias mas amenazadas como el Patiamarillo Chico (Tringa flavipes) se ha visto afectada por la falta de conocimiento sobre cómo las condiciones ambientales influyen en la migración y avistamientos de la especie. Las organizaciones ambientales locales no han podido establecer una relación clara entre las variaciones en temperatura y precipitación y los patrones de avistamientos de esta ave, lo que limita la toma de decisiones informadas para su conservación durante el periodo de migración.**bold text**"
      ],
      "metadata": {
        "id": "NmL3nf65CHbs"
      }
    },
    {
      "cell_type": "markdown",
      "source": [
        "# **Dominio de los datos:**\n",
        "1.   **Datos de eBird:** Pertecen a una base de datos mundial de datos de ciencia ciudadana, que son de uso público y pueden descargarse desde el sitio web de la organización.\n",
        "2.   **Datos de precipitación diaria y mensual:** Fueron obtenido de Google Earth Engine, a partir de las coordenadas y fechas de cada uno de los registros de eBird.\n",
        "3. **Datos de temperatura:** Fueron obtenido de Google Earth Engine, a partir de las coordenadas y fechas de cada uno de los registros de eBird.\n",
        "4. **Datos de cobertura de agua:** Se calculó un buffer de 500m a partir del punto donde se realizó el registro y se obtuvo la proporción de cobertura de agua en Google Earth Engine.\n"
      ],
      "metadata": {
        "id": "INDVs7E4CeY6"
      }
    },
    {
      "cell_type": "markdown",
      "source": [
        "# **Descripción de los campos**\n",
        "1. GLOBAL.UNIQUE.IDENTIFIER: Corresponde a un código único asignado a cada uno de los avistamientos reportados en eBird\n",
        "2. OBSERVATION.COUNT: correponde al número de individuos del Patiamarillo Chico reportados en cada registro\n",
        "3. LATITUDE: Latitud\n",
        "4. LONGITUDE: Longuitud\n",
        "5. OBSERVATION.DATE: Fecha del registro\n",
        "6. PROTOCOL.TYPE: Tipo de avistamiento registrado\n",
        "7. DAILY.PRECIPITATION: Precipitación diaria en mm para la fecha del registro\n",
        "8. MONTHLY.PRECIPITATION: Precipitación acumulada del mes del registro\n",
        "9. MONTHLY.TEMPERATURE: Temperatura promedio mensual del mes del registro\n",
        "10. COBERTURA.AGUA: proporción de cobertura de agua en un buffer de 500m a partir del punto del registro"
      ],
      "metadata": {
        "id": "k2Ie_iBHCIVf"
      }
    },
    {
      "cell_type": "markdown",
      "source": [
        "# **Estructura de los datos**\n"
      ],
      "metadata": {
        "id": "YWEI9o4ergzr"
      }
    },
    {
      "cell_type": "code",
      "source": [
        "# Resumen de la estructura del DataFrame\n",
        "print(data.info())"
      ],
      "metadata": {
        "colab": {
          "base_uri": "https://localhost:8080/"
        },
        "id": "FcMFABgcrU6f",
        "outputId": "02ba958f-613a-49c8-85df-4728886aba48"
      },
      "execution_count": 82,
      "outputs": [
        {
          "output_type": "stream",
          "name": "stdout",
          "text": [
            "<class 'pandas.core.frame.DataFrame'>\n",
            "RangeIndex: 2958 entries, 0 to 2957\n",
            "Data columns (total 12 columns):\n",
            " #   Column                              Non-Null Count  Dtype   \n",
            "---  ------                              --------------  -----   \n",
            " 0   GLOBAL.UNIQUE.IDENTIFIER            2958 non-null   object  \n",
            " 1   OBSERVATION.COUNT                   2958 non-null   int64   \n",
            " 2   LATITUDE                            2958 non-null   float64 \n",
            " 3   LONGITUDE                           2958 non-null   float64 \n",
            " 4   OBSERVATION.DATE                    2958 non-null   object  \n",
            " 5   PROTOCOL.TYPE                       2958 non-null   object  \n",
            " 6   DAILY.PRECIPITATION                 2958 non-null   float64 \n",
            " 7   MONTHLY.PRECIPITATION               2958 non-null   float64 \n",
            " 8   MONTLY.TEMPERATURE                  2958 non-null   float64 \n",
            " 9   COBERTURA.AGUA                      2673 non-null   float64 \n",
            " 10  OBSERVATION.COUNT.CATEGORY          2958 non-null   category\n",
            " 11  OBSERVATION.COUNT.CATEGORY_ENCODED  2958 non-null   category\n",
            "dtypes: category(2), float64(6), int64(1), object(3)\n",
            "memory usage: 237.2+ KB\n",
            "None\n"
          ]
        }
      ]
    },
    {
      "cell_type": "code",
      "source": [
        "# Dimensiones del DataFrame (filas, columnas)\n",
        "print(f\"Dimensiones del DataFrame: {data.shape}\")"
      ],
      "metadata": {
        "colab": {
          "base_uri": "https://localhost:8080/"
        },
        "id": "48XEgfzjrliA",
        "outputId": "833e5a4f-a3af-45eb-ac3b-d1ded1f2766c"
      },
      "execution_count": 83,
      "outputs": [
        {
          "output_type": "stream",
          "name": "stdout",
          "text": [
            "Dimensiones del DataFrame: (2958, 12)\n"
          ]
        }
      ]
    },
    {
      "cell_type": "code",
      "source": [
        "# Estadísticas descriptivas\n",
        "print(data.describe())"
      ],
      "metadata": {
        "colab": {
          "base_uri": "https://localhost:8080/"
        },
        "id": "evaVhfUtroc5",
        "outputId": "e6b603e8-264e-4c3c-d8bf-68838cbea8e8"
      },
      "execution_count": 84,
      "outputs": [
        {
          "output_type": "stream",
          "name": "stdout",
          "text": [
            "       OBSERVATION.COUNT     LATITUDE    LONGITUDE  DAILY.PRECIPITATION  \\\n",
            "count        2958.000000  2958.000000  2958.000000          2958.000000   \n",
            "mean            4.821163     4.152455   -76.142378             5.821501   \n",
            "std            12.936885     0.834408     0.514063            11.767721   \n",
            "min             1.000000     2.611840   -77.490860             0.000000   \n",
            "25%             1.000000     3.626733   -76.397705             0.000000   \n",
            "50%             2.000000     3.881371   -76.350898             0.000000   \n",
            "75%             4.000000     4.764559   -75.618489             7.675361   \n",
            "max           200.000000     6.984203   -75.001629           122.390595   \n",
            "\n",
            "       MONTHLY.PRECIPITATION  MONTLY.TEMPERATURE  COBERTURA.AGUA  \n",
            "count            2958.000000         2958.000000     2673.000000  \n",
            "mean              154.275512           19.779061        0.397707  \n",
            "std               110.138449            2.333235        0.222473  \n",
            "min                12.312138            7.399026        0.000000  \n",
            "25%                80.521801           18.213785        0.320000  \n",
            "50%               124.467836           19.281998        0.329752  \n",
            "75%               197.090704           21.066854        0.553332  \n",
            "max               769.965492           27.057214        0.981853  \n"
          ]
        }
      ]
    },
    {
      "cell_type": "code",
      "source": [
        "# Suma de valores nulos por columna\n",
        "print(data.isnull().sum())"
      ],
      "metadata": {
        "colab": {
          "base_uri": "https://localhost:8080/"
        },
        "id": "9r6rZscjrquA",
        "outputId": "71436cc1-57ba-402f-8029-61423dfecae2"
      },
      "execution_count": 85,
      "outputs": [
        {
          "output_type": "stream",
          "name": "stdout",
          "text": [
            "GLOBAL.UNIQUE.IDENTIFIER                0\n",
            "OBSERVATION.COUNT                       0\n",
            "LATITUDE                                0\n",
            "LONGITUDE                               0\n",
            "OBSERVATION.DATE                        0\n",
            "PROTOCOL.TYPE                           0\n",
            "DAILY.PRECIPITATION                     0\n",
            "MONTHLY.PRECIPITATION                   0\n",
            "MONTLY.TEMPERATURE                      0\n",
            "COBERTURA.AGUA                        285\n",
            "OBSERVATION.COUNT.CATEGORY              0\n",
            "OBSERVATION.COUNT.CATEGORY_ENCODED      0\n",
            "dtype: int64\n"
          ]
        }
      ]
    },
    {
      "cell_type": "code",
      "source": [
        "# Primeras 5 filas del DataFrame\n",
        "print(data.head())"
      ],
      "metadata": {
        "colab": {
          "base_uri": "https://localhost:8080/"
        },
        "id": "EjVihKsGrsf7",
        "outputId": "b0c0d610-1c8a-46dc-849c-fdaac8a9011d"
      },
      "execution_count": 86,
      "outputs": [
        {
          "output_type": "stream",
          "name": "stdout",
          "text": [
            "  GLOBAL.UNIQUE.IDENTIFIER  OBSERVATION.COUNT  LATITUDE  LONGITUDE  \\\n",
            "0       EBIRD:OBS409764406                  1  6.405548 -75.424361   \n",
            "1       EBIRD:OBS666054430                  2  6.984203 -75.112168   \n",
            "2      EBIRD:OBS1227922401                  1  6.969255 -75.129226   \n",
            "3       EBIRD:OBS286564168                  1  6.148342 -75.375985   \n",
            "4       EBIRD:OBS372036947                  4  6.110034 -75.417152   \n",
            "\n",
            "  OBSERVATION.DATE PROTOCOL.TYPE  DAILY.PRECIPITATION  MONTHLY.PRECIPITATION  \\\n",
            "0       11/17/2001    Historical            20.287292             201.623348   \n",
            "1        1/22/2011     Traveling             0.000000              79.723187   \n",
            "2        3/25/2012    Historical            15.229471             357.375404   \n",
            "3        9/21/2014          Area             5.510858             215.989918   \n",
            "4         1/2/2016    Stationary             0.000000              59.990550   \n",
            "\n",
            "   MONTLY.TEMPERATURE  COBERTURA.AGUA OBSERVATION.COUNT.CATEGORY  \\\n",
            "0           15.578088        0.364768                        1-4   \n",
            "1           18.610284             NaN                        1-4   \n",
            "2           19.480920             NaN                        1-4   \n",
            "3           16.583841        0.017647                        1-4   \n",
            "4           16.135492        0.038699                        1-4   \n",
            "\n",
            "  OBSERVATION.COUNT.CATEGORY_ENCODED  \n",
            "0                                  1  \n",
            "1                                  1  \n",
            "2                                  1  \n",
            "3                                  1  \n",
            "4                                  1  \n"
          ]
        }
      ]
    },
    {
      "cell_type": "code",
      "source": [
        "# Últimas 5 filas del DataFrame\n",
        "print(data.tail())"
      ],
      "metadata": {
        "colab": {
          "base_uri": "https://localhost:8080/"
        },
        "id": "2Uq24S73ruZq",
        "outputId": "16ca962e-3fdd-49bc-e136-0d66db98ab6c"
      },
      "execution_count": 87,
      "outputs": [
        {
          "output_type": "stream",
          "name": "stdout",
          "text": [
            "     GLOBAL.UNIQUE.IDENTIFIER  OBSERVATION.COUNT  LATITUDE  LONGITUDE  \\\n",
            "2953      EBIRD:OBS2020830107                  1  3.890721 -76.344287   \n",
            "2954      EBIRD:OBS2028428895                  1  3.890721 -76.344287   \n",
            "2955      EBIRD:OBS2307774620                  3  3.500485 -76.349337   \n",
            "2956      EBIRD:OBS2348395101                  2  3.771217 -77.169880   \n",
            "2957      EBIRD:OBS2314030696                  1  3.500485 -76.349337   \n",
            "\n",
            "     OBSERVATION.DATE PROTOCOL.TYPE  DAILY.PRECIPITATION  \\\n",
            "2953         4/1/2024     Traveling             0.000000   \n",
            "2954         4/1/2024     Traveling             0.000000   \n",
            "2955        4/12/2024     Traveling             0.567761   \n",
            "2956        7/17/2024     Traveling            27.996582   \n",
            "2957        7/13/2024     Traveling             0.000000   \n",
            "\n",
            "      MONTHLY.PRECIPITATION  MONTLY.TEMPERATURE  COBERTURA.AGUA  \\\n",
            "2953             174.932730           19.104590        0.287349   \n",
            "2954             174.932730           19.104590        0.287349   \n",
            "2955             195.926351           20.013835        0.038870   \n",
            "2956             432.686287           17.463352        0.763486   \n",
            "2957              31.746340           18.959747        0.038870   \n",
            "\n",
            "     OBSERVATION.COUNT.CATEGORY OBSERVATION.COUNT.CATEGORY_ENCODED  \n",
            "2953                        1-4                                  1  \n",
            "2954                        1-4                                  1  \n",
            "2955                        1-4                                  1  \n",
            "2956                        1-4                                  1  \n",
            "2957                        1-4                                  1  \n"
          ]
        }
      ]
    },
    {
      "cell_type": "code",
      "source": [
        "# Tipos de datos de cada columna del df\n",
        "print(data.dtypes)"
      ],
      "metadata": {
        "colab": {
          "base_uri": "https://localhost:8080/"
        },
        "id": "ez_AxH35rxWY",
        "outputId": "e68aeacd-a402-4454-8287-d7a4de9ce1de"
      },
      "execution_count": 88,
      "outputs": [
        {
          "output_type": "stream",
          "name": "stdout",
          "text": [
            "GLOBAL.UNIQUE.IDENTIFIER                object\n",
            "OBSERVATION.COUNT                        int64\n",
            "LATITUDE                               float64\n",
            "LONGITUDE                              float64\n",
            "OBSERVATION.DATE                        object\n",
            "PROTOCOL.TYPE                           object\n",
            "DAILY.PRECIPITATION                    float64\n",
            "MONTHLY.PRECIPITATION                  float64\n",
            "MONTLY.TEMPERATURE                     float64\n",
            "COBERTURA.AGUA                         float64\n",
            "OBSERVATION.COUNT.CATEGORY            category\n",
            "OBSERVATION.COUNT.CATEGORY_ENCODED    category\n",
            "dtype: object\n"
          ]
        }
      ]
    },
    {
      "cell_type": "code",
      "source": [
        "list(data.columns)"
      ],
      "metadata": {
        "colab": {
          "base_uri": "https://localhost:8080/"
        },
        "id": "PFviyrPlrym0",
        "outputId": "b12d3a96-fe42-4ee0-bcdb-76242b1db974"
      },
      "execution_count": 89,
      "outputs": [
        {
          "output_type": "execute_result",
          "data": {
            "text/plain": [
              "['GLOBAL.UNIQUE.IDENTIFIER',\n",
              " 'OBSERVATION.COUNT',\n",
              " 'LATITUDE',\n",
              " 'LONGITUDE',\n",
              " 'OBSERVATION.DATE',\n",
              " 'PROTOCOL.TYPE',\n",
              " 'DAILY.PRECIPITATION',\n",
              " 'MONTHLY.PRECIPITATION',\n",
              " 'MONTLY.TEMPERATURE',\n",
              " 'COBERTURA.AGUA',\n",
              " 'OBSERVATION.COUNT.CATEGORY',\n",
              " 'OBSERVATION.COUNT.CATEGORY_ENCODED']"
            ]
          },
          "metadata": {},
          "execution_count": 89
        }
      ]
    },
    {
      "cell_type": "markdown",
      "source": [
        "Resumen de la sección: El DataFrame tiene 2958 registros y 12 columnas. Las columnas incluyen variables como el número de individuos observados, la latitud y longitud de las observaciones, y condiciones ambientales como la precipitación y la temperatura mensual. Notamos que la columna COBERTURA.AGUA tiene 285 valores faltantes, lo que implica que será necesario aplicar técnicas de imputación. Las estadísticas descriptivas muestran que el número de individuos observados varía considerablemente, con un valor máximo de 200 individuos. La mayoría de las observaciones se realizan en condiciones climáticas moderadas, como lo indican los valores promedio de precipitación diaria y temperatura mensual. Estos datos nos preparan para realizar el preprocesamiento necesario antes de entrenar el modelo."
      ],
      "metadata": {
        "id": "3Gck2qz7ujY9"
      }
    },
    {
      "cell_type": "markdown",
      "source": [
        "# **Manejo de los datos**"
      ],
      "metadata": {
        "id": "wSp34M-wNzwJ"
      }
    },
    {
      "cell_type": "markdown",
      "source": [
        "Lo primero que hacemos es enfoncarnos en al variable objetivo, que tiene muchas clases."
      ],
      "metadata": {
        "id": "P9vVxp-EN4ko"
      }
    },
    {
      "cell_type": "code",
      "source": [
        "# Ajustar el tamaño del gráfico\n",
        "plt.figure(figsize=(8, 6))\n",
        "\n",
        "# Crear histograma\n",
        "sns.histplot(data['OBSERVATION.COUNT'], bins=30, kde=False)\n",
        "\n",
        "# Agregar títulos y etiquetas\n",
        "plt.title('Distribución de la variable OBSERVATION.COUNT')\n",
        "plt.xlabel('Número de individuos observados')\n",
        "plt.ylabel('Frecuencia')\n",
        "\n",
        "# Mostrar el gráfico\n",
        "plt.show()"
      ],
      "metadata": {
        "colab": {
          "base_uri": "https://localhost:8080/",
          "height": 564
        },
        "id": "RkztQx7dN20P",
        "outputId": "8b565c5c-c212-4635-ede9-3a219de03c43"
      },
      "execution_count": 53,
      "outputs": [
        {
          "output_type": "display_data",
          "data": {
            "text/plain": [
              "<Figure size 800x600 with 1 Axes>"
            ],
            "image/png": "[encoded data removed]"
          },
          "metadata": {}
        }
      ]
    },
    {
      "cell_type": "markdown",
      "source": [
        "Como tenemos tantas clases en nuestra variable objetivo, vamos a agrupar esa variable OBSERVATION.COUNT en dos categorías, de 1 a 4 individuos (donde se encuentra el 78,29% de los registros) y 5 o más individuos registrados (21,71% de los registros). Para después hacer una codificación tipo \"Label enconding\" de esa variable.\n"
      ],
      "metadata": {
        "id": "Pt4LwqeqOXVa"
      }
    },
    {
      "cell_type": "code",
      "source": [
        "#Categorizar 'OBSERVATION.COUNT'\n",
        "data['OBSERVATION.COUNT.CATEGORY'] = pd.cut(data['OBSERVATION.COUNT'],\n",
        "                                            bins=[0, 4, float('inf')],\n",
        "                                            labels=['1-4', '5 o más'])"
      ],
      "metadata": {
        "id": "xMTwjGspQPwN"
      },
      "execution_count": 54,
      "outputs": []
    },
    {
      "cell_type": "code",
      "source": [
        "#Codificar la columna categorizada usando 1 y 2\n",
        "data['OBSERVATION.COUNT.CATEGORY_ENCODED'] = data['OBSERVATION.COUNT.CATEGORY'].map({'1-4': 1, '5 o más': 2})\n"
      ],
      "metadata": {
        "id": "QazLcjNgQWBO"
      },
      "execution_count": 55,
      "outputs": []
    },
    {
      "cell_type": "markdown",
      "source": [
        "Visualizar la variable codificada"
      ],
      "metadata": {
        "id": "xlOSi4P7QhPo"
      }
    },
    {
      "cell_type": "code",
      "source": [
        "plt.figure(figsize=(8, 6))\n",
        "\n",
        "# Crear el histograma de la variable categorizada\n",
        "sns.histplot(data['OBSERVATION.COUNT.CATEGORY_ENCODED'], bins=2, kde=False)\n",
        "\n",
        "# Ajustar las etiquetas del eje X\n",
        "plt.xticks([1, 2], ['1-4 individuos', '5 o más individuos'])\n",
        "\n",
        "# Agregar títulos y etiquetas\n",
        "plt.title('Distribución de la variable categorizada OBSERVATION.COUNT (1 y 2)')\n",
        "plt.xlabel('Categorías')\n",
        "plt.ylabel('Frecuencia')\n",
        "\n",
        "# Mostrar el gráfico\n",
        "plt.show()"
      ],
      "metadata": {
        "colab": {
          "base_uri": "https://localhost:8080/",
          "height": 565
        },
        "id": "OW5O6BZTQkyX",
        "outputId": "bedd219a-a04a-47d6-8f5a-df1927bcacd4"
      },
      "execution_count": 56,
      "outputs": [
        {
          "output_type": "display_data",
          "data": {
            "text/plain": [
              "<Figure size 800x600 with 1 Axes>"
            ],
            "image/png": "[encoded data removed]"
          },
          "metadata": {}
        }
      ]
    },
    {
      "cell_type": "markdown",
      "source": [
        "**Resumen de la sección: ** En esta sección, comenzamos enfocándonos en la variable objetivo: el número de individuos observados (OBSERVATION.COUNT). Dado que esta variable tiene muchas clases, decidimos agruparla en dos categorías más manejables: \"1-4 individuos\" y \"5 o más individuos\", que representan el 78.29% y el 21.71% de los registros, respectivamente. Posteriormente, codificamos estas categorías en valores numéricos (1 y 2) para facilitar el modelado."
      ],
      "metadata": {
        "id": "80KyGmkFvjzv"
      }
    },
    {
      "cell_type": "markdown",
      "source": [
        "# **División datos Entrenamiento (80%) y Prueba (20%)**"
      ],
      "metadata": {
        "id": "VdUvbiIERvQo"
      }
    },
    {
      "cell_type": "code",
      "source": [
        "# Definir las variables predictoras (X) y la variable objetivo (y)\n",
        "X = data[['DAILY.PRECIPITATION', 'MONTHLY.PRECIPITATION', 'MONTLY.TEMPERATURE', 'COBERTURA.AGUA']]\n",
        "y = data['OBSERVATION.COUNT.CATEGORY_ENCODED']  # Variable objetivo categorizada y codificada"
      ],
      "metadata": {
        "id": "YnpOXuc7R4iS"
      },
      "execution_count": 57,
      "outputs": []
    },
    {
      "cell_type": "code",
      "source": [
        "# Dividir los datos en entrenamiento (80%) y prueba (20%)\n",
        "X_train, X_test, y_train, y_test = train_test_split(X, y, test_size=0.2, random_state=42)"
      ],
      "metadata": {
        "id": "bjI_RN9DSFbX"
      },
      "execution_count": 58,
      "outputs": []
    },
    {
      "cell_type": "code",
      "source": [
        "# Mostrar el tamaño de cada conjunto\n",
        "print(f\"Tamaño del conjunto de entrenamiento: {X_train.shape}\")\n",
        "print(f\"Tamaño del conjunto de prueba: {X_test.shape}\")"
      ],
      "metadata": {
        "colab": {
          "base_uri": "https://localhost:8080/"
        },
        "id": "J0zS9LIESJbg",
        "outputId": "58034624-9618-4669-9f12-42b0cbb94576"
      },
      "execution_count": 59,
      "outputs": [
        {
          "output_type": "stream",
          "name": "stdout",
          "text": [
            "Tamaño del conjunto de entrenamiento: (2366, 4)\n",
            "Tamaño del conjunto de prueba: (592, 4)\n"
          ]
        }
      ]
    },
    {
      "cell_type": "markdown",
      "source": [
        "**Resumen de la sección:** En esta sección, realizamos la división de los datos en conjuntos de entrenamiento y prueba. El conjunto de entrenamiento se utiliza para entrenar el modelo, mientras que el conjunto de prueba se reserva para evaluar el rendimiento del modelo en datos no vistos. Utilizamos un 80% de los datos para entrenamiento y el 20% restante para prueba, asegurando que ambos conjuntos representen adecuadamente las características de los datos originales."
      ],
      "metadata": {
        "id": "2F7_g5j3v0jS"
      }
    },
    {
      "cell_type": "markdown",
      "source": [
        "# **Preparación y Limpieza de datos (Entrenamiento)**"
      ],
      "metadata": {
        "id": "KZcxYRWXSNRP"
      }
    },
    {
      "cell_type": "markdown",
      "source": [
        "**Manejo de outliers**\n",
        "\n",
        "Creamos un transformer personalizado OutlierHandler para manejar los outliers usando el IQR."
      ],
      "metadata": {
        "id": "w6ND0ZTlTqK9"
      }
    },
    {
      "cell_type": "code",
      "source": [
        "class OutlierHandler(BaseEstimator, TransformerMixin):\n",
        "    def __init__(self):\n",
        "        pass\n",
        "\n",
        "    def fit(self, X, y=None):\n",
        "        # X vendrá como un array de NumPy, así que calculamos los cuantiles directamente\n",
        "        self.Q1 = np.percentile(X, 25, axis=0)  # Cuartil 1\n",
        "        self.Q3 = np.percentile(X, 75, axis=0)  # Cuartil 3\n",
        "        self.IQR = self.Q3 - self.Q1  # Rango intercuartil\n",
        "        self.lower_bound = self.Q1 - 1.5 * self.IQR  # Límite inferior\n",
        "        self.upper_bound = self.Q3 + 1.5 * self.IQR  # Límite superior\n",
        "        return self\n",
        "\n",
        "    def transform(self, X):\n",
        "        # Aplicar la transformación de outliers usando los límites calculados\n",
        "        X_outliers = np.clip(X, self.lower_bound, self.upper_bound)  # Limitar a los valores del IQR\n",
        "        return X_outliers\n"
      ],
      "metadata": {
        "id": "uxaYNER1SU17"
      },
      "execution_count": 60,
      "outputs": []
    },
    {
      "cell_type": "markdown",
      "source": [
        "**Resumen de la sección:** Durante el proceso de preparación de los datos de entrenamiento, se manejaron los outliers mediante el método del IQR (Interquartile Range), que identifica valores fuera del rango intercuartil en las variables predictoras (precipitación diaria y mensual, temperatura, y cobertura de agua). Los valores que se encontraban por debajo o por encima de los límites se ajustaron a los valores límites correspondientes, lo que nos asegura que los outliers no afecten de manera desproporcionada el rendimiento del modelo. Este paso es crucial para mejorar la calidad de los datos y evitar que valores extremos interfieran en el entrenamiento del modelo."
      ],
      "metadata": {
        "id": "sVhUGPtZwDqy"
      }
    },
    {
      "cell_type": "markdown",
      "source": [
        "# Pipeline de manejo de datos"
      ],
      "metadata": {
        "id": "wtPflqDNUBye"
      }
    },
    {
      "cell_type": "code",
      "source": [
        "pipeline = Pipeline([\n",
        "    ('imputer', SimpleImputer(strategy='median')),  # Imputar los valores faltantes con la mediana\n",
        "    ('outlier_handler', OutlierHandler()),          # Manejar los outliers\n",
        "    ('scaler', StandardScaler())                   # Estandarizar las variables\n",
        "])"
      ],
      "metadata": {
        "id": "4KED4m9UUECz"
      },
      "execution_count": 61,
      "outputs": []
    },
    {
      "cell_type": "markdown",
      "source": [
        "**Resúmen de la sección:** El pipeline de preprocesamiento incluye tres pasos clave. Primero, utilizamos SimpleImputer para reemplazar los valores faltantes en las variables predictoras con la mediana. Luego, aplicamos el transformer personalizado OutlierHandler para ajustar los valores atípicos utilizando el método del IQR, asegurándonos de que los outliers no afecten negativamente al modelo. Finalmente, utilizamos StandardScaler para estandarizar las variables, lo que garantiza que todas las características estén en la misma escala, un paso importante cuando se trabaja con modelos que son sensibles a la magnitud de los datos."
      ],
      "metadata": {
        "id": "t1yDimmkwVlZ"
      }
    },
    {
      "cell_type": "markdown",
      "source": [
        "# Aplicamos el pipeline a los datos de entrenamiento"
      ],
      "metadata": {
        "id": "rRH808A7UIi9"
      }
    },
    {
      "cell_type": "code",
      "source": [
        "X_train_processed = pipeline.fit_transform(X_train)"
      ],
      "metadata": {
        "id": "sBP7s7EdUQqL"
      },
      "execution_count": 62,
      "outputs": []
    },
    {
      "cell_type": "code",
      "source": [
        "# Aplicar el Pipeline a los datos de prueba (sin recalcular los parámetros)\n",
        "X_test_processed = pipeline.transform(X_test)"
      ],
      "metadata": {
        "id": "PJWd_cYWVgf2"
      },
      "execution_count": 63,
      "outputs": []
    },
    {
      "cell_type": "code",
      "source": [
        "# Convertir el resultado en un DataFrame para una visualización más clara\n",
        "X_train_processed_df = pd.DataFrame(X_train_processed, columns=X.columns)\n",
        "# Mostrar las primeras filas de los datos procesados\n",
        "print(X_train_processed_df.head())"
      ],
      "metadata": {
        "colab": {
          "base_uri": "https://localhost:8080/"
        },
        "id": "DkAhlveUV2lF",
        "outputId": "293d733d-df99-4c72-baac-b71aaf01f871"
      },
      "execution_count": 64,
      "outputs": [
        {
          "output_type": "stream",
          "name": "stdout",
          "text": [
            "   DAILY.PRECIPITATION  MONTHLY.PRECIPITATION  MONTLY.TEMPERATURE  \\\n",
            "0            -0.630392              -0.642086           -0.515868   \n",
            "1            -0.630392              -1.133704           -0.922867   \n",
            "2            -0.369161              -0.342361            0.167691   \n",
            "3            -0.137627               0.205085            0.658449   \n",
            "4            -0.630392               0.299831           -0.311536   \n",
            "\n",
            "   COBERTURA.AGUA  \n",
            "0       -0.295758  \n",
            "1        0.843403  \n",
            "2       -0.295758  \n",
            "3        0.876405  \n",
            "4       -0.498857  \n"
          ]
        }
      ]
    },
    {
      "cell_type": "code",
      "source": [
        "# Revisar si hay valores NA en los datos procesados\n",
        "na_values = X_train_processed_df.isna().sum()\n",
        "\n",
        "# Mostrar las columnas con valores NA (si los hay)\n",
        "print(\"Valores NA por columna:\")\n",
        "print(na_values[na_values > 0])\n",
        "\n",
        "# Si no hay valores NA, te mostrará un mensaje:\n",
        "if na_values.sum() == 0:\n",
        "    print(\"No hay valores NA en los datos procesados.\")"
      ],
      "metadata": {
        "colab": {
          "base_uri": "https://localhost:8080/"
        },
        "id": "LiPy2fb7WBWd",
        "outputId": "eac75d5f-7bcc-4355-cee5-83eb54146a74"
      },
      "execution_count": 65,
      "outputs": [
        {
          "output_type": "stream",
          "name": "stdout",
          "text": [
            "Valores NA por columna:\n",
            "Series([], dtype: int64)\n",
            "No hay valores NA en los datos procesados.\n"
          ]
        }
      ]
    },
    {
      "cell_type": "code",
      "source": [
        "# Crear un boxplot para visualizar los outliers\n",
        "plt.figure(figsize=(12, 8))\n",
        "sns.boxplot(data=X_train_processed_df)\n",
        "plt.title('Visualización de Outliers después del Pipeline')\n",
        "plt.xticks(rotation=90)  # Rotar las etiquetas del eje X si es necesario\n",
        "plt.show()"
      ],
      "metadata": {
        "colab": {
          "base_uri": "https://localhost:8080/",
          "height": 855
        },
        "id": "lc_RYpe2WDbN",
        "outputId": "fd41dd50-22df-476e-d966-7b2748a83d54"
      },
      "execution_count": 66,
      "outputs": [
        {
          "output_type": "display_data",
          "data": {
            "text/plain": [
              "<Figure size 1200x800 with 1 Axes>"
            ],
            "image/png": "[encoded data removed]"
          },
          "metadata": {}
        }
      ]
    },
    {
      "cell_type": "markdown",
      "source": [
        "**Resúmen de la sección:** Después de aplicar el pipeline de preprocesamiento a los datos de entrenamiento, confirmamos que no hay valores faltantes en las variables predictoras. Además, el boxplot generado nos muestra cómo los outliers han sido manejados adecuadamente. Las variables como precipitación diaria, mensual, temperatura y cobertura de agua muestran una distribución más controlada, dentro de rangos razonables, sin presencia de valores extremos que puedan sesgar el modelo. Al estandarizar las variables, todas están dentro de una misma escala, lo que es crucial para que los algoritmos de aprendizaje automático funcionen de manera óptima. Este paso garantiza que los datos están en la mejor forma posible para entrenar el modelo."
      ],
      "metadata": {
        "id": "W-f50JRUw0DC"
      }
    },
    {
      "cell_type": "markdown",
      "source": [
        "# **Modelo**"
      ],
      "metadata": {
        "id": "QBekmFvTW7_P"
      }
    },
    {
      "cell_type": "markdown",
      "source": [
        "Random Forest"
      ],
      "metadata": {
        "id": "dkfSfVs_YUGE"
      }
    },
    {
      "cell_type": "code",
      "source": [
        "#Entrenar el modelo de Random Forest\n",
        "rf_model = RandomForestClassifier(n_estimators=100, random_state=42)"
      ],
      "metadata": {
        "id": "DrGV8Z_2Yaxy"
      },
      "execution_count": 71,
      "outputs": []
    },
    {
      "cell_type": "code",
      "source": [
        "# Entrenar el modelo con los datos preprocesados\n",
        "rf_model.fit(X_train_processed, y_train)"
      ],
      "metadata": {
        "colab": {
          "base_uri": "https://localhost:8080/",
          "height": 74
        },
        "id": "uTSRHS9dYfIy",
        "outputId": "8b63014a-cff0-4c99-d19e-e4e740d418b8"
      },
      "execution_count": 72,
      "outputs": [
        {
          "output_type": "execute_result",
          "data": {
            "text/plain": [
              "RandomForestClassifier(random_state=42)"
            ],
            "text/html": [
              "<style>#sk-container-id-4 {color: black;}#sk-container-id-4 pre{padding: 0;}#sk-container-id-4 div.sk-toggleable {background-color: white;}#sk-container-id-4 label.sk-toggleable__label {cursor: pointer;display: block;width: 100%;margin-bottom: 0;padding: 0.3em;box-sizing: border-box;text-align: center;}#sk-container-id-4 label.sk-toggleable__label-arrow:before {content: \"▸\";float: left;margin-right: 0.25em;color: #696969;}#sk-container-id-4 label.sk-toggleable__label-arrow:hover:before {color: black;}#sk-container-id-4 div.sk-estimator:hover label.sk-toggleable__label-arrow:before {color: black;}#sk-container-id-4 div.sk-toggleable__content {max-height: 0;max-width: 0;overflow: hidden;text-align: left;background-color: #f0f8ff;}#sk-container-id-4 div.sk-toggleable__content pre {margin: 0.2em;color: black;border-radius: 0.25em;background-color: #f0f8ff;}#sk-container-id-4 input.sk-toggleable__control:checked~div.sk-toggleable__content {max-height: 200px;max-width: 100%;overflow: auto;}#sk-container-id-4 input.sk-toggleable__control:checked~label.sk-toggleable__label-arrow:before {content: \"▾\";}#sk-container-id-4 div.sk-estimator input.sk-toggleable__control:checked~label.sk-toggleable__label {background-color: #d4ebff;}#sk-container-id-4 div.sk-label input.sk-toggleable__control:checked~label.sk-toggleable__label {background-color: #d4ebff;}#sk-container-id-4 input.sk-hidden--visually {border: 0;clip: rect(1px 1px 1px 1px);clip: rect(1px, 1px, 1px, 1px);height: 1px;margin: -1px;overflow: hidden;padding: 0;position: absolute;width: 1px;}#sk-container-id-4 div.sk-estimator {font-family: monospace;background-color: #f0f8ff;border: 1px dotted black;border-radius: 0.25em;box-sizing: border-box;margin-bottom: 0.5em;}#sk-container-id-4 div.sk-estimator:hover {background-color: #d4ebff;}#sk-container-id-4 div.sk-parallel-item::after {content: \"\";width: 100%;border-bottom: 1px solid gray;flex-grow: 1;}#sk-container-id-4 div.sk-label:hover label.sk-toggleable__label {background-color: #d4ebff;}#sk-container-id-4 div.sk-serial::before {content: \"\";position: absolute;border-left: 1px solid gray;box-sizing: border-box;top: 0;bottom: 0;left: 50%;z-index: 0;}#sk-container-id-4 div.sk-serial {display: flex;flex-direction: column;align-items: center;background-color: white;padding-right: 0.2em;padding-left: 0.2em;position: relative;}#sk-container-id-4 div.sk-item {position: relative;z-index: 1;}#sk-container-id-4 div.sk-parallel {display: flex;align-items: stretch;justify-content: center;background-color: white;position: relative;}#sk-container-id-4 div.sk-item::before, #sk-container-id-4 div.sk-parallel-item::before {content: \"\";position: absolute;border-left: 1px solid gray;box-sizing: border-box;top: 0;bottom: 0;left: 50%;z-index: -1;}#sk-container-id-4 div.sk-parallel-item {display: flex;flex-direction: column;z-index: 1;position: relative;background-color: white;}#sk-container-id-4 div.sk-parallel-item:first-child::after {align-self: flex-end;width: 50%;}#sk-container-id-4 div.sk-parallel-item:last-child::after {align-self: flex-start;width: 50%;}#sk-container-id-4 div.sk-parallel-item:only-child::after {width: 0;}#sk-container-id-4 div.sk-dashed-wrapped {border: 1px dashed gray;margin: 0 0.4em 0.5em 0.4em;box-sizing: border-box;padding-bottom: 0.4em;background-color: white;}#sk-container-id-4 div.sk-label label {font-family: monospace;font-weight: bold;display: inline-block;line-height: 1.2em;}#sk-container-id-4 div.sk-label-container {text-align: center;}#sk-container-id-4 div.sk-container {/* jupyter's `normalize.less` sets `[hidden] { display: none; }` but bootstrap.min.css set `[hidden] { display: none !important; }` so we also need the `!important` here to be able to override the default hidden behavior on the sphinx rendered scikit-learn.org. See: https://github.com/scikit-learn/scikit-learn/issues/21755 */display: inline-block !important;position: relative;}#sk-container-id-4 div.sk-text-repr-fallback {display: none;}</style><div id=\"sk-container-id-4\" class=\"sk-top-container\"><div class=\"sk-text-repr-fallback\"><pre>RandomForestClassifier(random_state=42)</pre><b>In a Jupyter environment, please rerun this cell to show the HTML representation or trust the notebook. <br />On GitHub, the HTML representation is unable to render, please try loading this page with nbviewer.org.</b></div><div class=\"sk-container\" hidden><div class=\"sk-item\"><div class=\"sk-estimator sk-toggleable\"><input class=\"sk-toggleable__control sk-hidden--visually\" id=\"sk-estimator-id-4\" type=\"checkbox\" checked><label for=\"sk-estimator-id-4\" class=\"sk-toggleable__label sk-toggleable__label-arrow\">RandomForestClassifier</label><div class=\"sk-toggleable__content\"><pre>RandomForestClassifier(random_state=42)</pre></div></div></div></div></div>"
            ]
          },
          "metadata": {},
          "execution_count": 72
        }
      ]
    },
    {
      "cell_type": "code",
      "source": [
        "#Hacer predicciones y evaluar el modelo**\n",
        "y_pred_rf = rf_model.predict(X_test_processed)\n",
        "\n",
        "# Calcular las métricas de evaluación\n",
        "print(\"Matriz de Confusión para Random Forest:\")\n",
        "print(confusion_matrix(y_test, y_pred_rf))\n",
        "\n",
        "print(\"\\nReporte de Clasificación para Random Forest:\")\n",
        "print(classification_report(y_test, y_pred_rf))"
      ],
      "metadata": {
        "colab": {
          "base_uri": "https://localhost:8080/"
        },
        "id": "TwTYkXi7Yhfa",
        "outputId": "cdface53-fbea-44f6-b980-f7d2d08f976d"
      },
      "execution_count": 92,
      "outputs": [
        {
          "output_type": "stream",
          "name": "stdout",
          "text": [
            "Matriz de Confusión para Random Forest:\n",
            "[[431  28]\n",
            " [ 36  97]]\n",
            "\n",
            "Reporte de Clasificación para Random Forest:\n",
            "              precision    recall  f1-score   support\n",
            "\n",
            "           1       0.92      0.94      0.93       459\n",
            "           2       0.78      0.73      0.75       133\n",
            "\n",
            "    accuracy                           0.89       592\n",
            "   macro avg       0.85      0.83      0.84       592\n",
            "weighted avg       0.89      0.89      0.89       592\n",
            "\n"
          ]
        }
      ]
    },
    {
      "cell_type": "code",
      "source": [
        "#Imprimir la eficacia del modelo\n",
        "accuracy = accuracy_score(y_test, y_pred_rf)\n",
        "print(f\"Eficacia del modelo (accuracy): {accuracy:.2f}\")"
      ],
      "metadata": {
        "colab": {
          "base_uri": "https://localhost:8080/"
        },
        "id": "g-_p1ZF4s9OA",
        "outputId": "9d00dddb-59b2-404b-85e6-b08558377759"
      },
      "execution_count": 91,
      "outputs": [
        {
          "output_type": "stream",
          "name": "stdout",
          "text": [
            "Eficacia del modelo (accuracy): 0.89\n"
          ]
        }
      ]
    },
    {
      "cell_type": "markdown",
      "source": [
        "**Resúmen de la sección:** El Random Forest mostró un excelente rendimiento con una precisión global (accuracy) del 89%. Al analizar los resultados, el modelo predice correctamente la mayoría de las observaciones, con una precisión del 92% y un recall del 94% para la clase 1 (1-4 individuos). Para la clase 2 (5 o más individuos), el modelo tiene una precisión del 78% y un recall del 73%, lo que indica que, aunque hay un ligero desbalance en el rendimiento entre ambas clases, el modelo logra capturar bien los patrones de ambas categorías. El macro promedio de precisión y recall es de 0.85 y 0.83, respectivamente, lo que refuerza el buen rendimiento general del modelo. La matriz de confusión muestra que el modelo realizó 431 predicciones correctas para la clase 1 y 97 para la clase 2, con algunos errores de clasificación, lo que es esperable en un escenario con clases desbalanceadas."
      ],
      "metadata": {
        "id": "5Gf8D6Thx_EN"
      }
    },
    {
      "cell_type": "markdown",
      "source": [
        "# **Interpretación de los resultados**\n",
        "Los resultados del modelo Random Forest muestran una correlación moderada entre las condiciones climáticas y el número de individuos de Tringa flavipes avistados en el Valle Geográfico del Río Cauca. El modelo predice con alta precisión las observaciones de 1 a 4 individuos, lo que sugiere que las variables como la precipitación diaria y la temperatura mensual tienen una influencia clara cuando los avistamientos son de grupos pequeños. Sin embargo, la precisión disminuye al predecir la clase de 5 o más individuos avistados, lo que indica que, aunque las condiciones climáticas juegan un papel importante, existen otros factores ecológicos, como la disponibilidad de alimento o la perturbación del hábitat, que podrían influir en la presencia de grupos más grandes de *Tringa flavipes*. Esto sugiere que las condiciones ambientales no son el único factor determinante en los grandes avistamientos y que un análisis más completo debería incluir variables adicionales para mejorar la comprensión de los factores que afectan la migración de esta especie."
      ],
      "metadata": {
        "id": "Bm7aaqqEyEWu"
      }
    }
  ]
}